{
 "cells": [
  {
   "cell_type": "code",
   "execution_count": null,
   "metadata": {},
   "outputs": [],
   "source": [
    "#ALL numbers divisible by 6\n",
    "#Task1:\n",
    "def div():\n",
    "    for i in range(lb,ub):\n",
    "        if i%n==0:\n",
    "            print(i)  \n",
    "    \n",
    "n=int(input(\"enter divisor: \"))\n",
    "lb=int(input(\"enter lower: \"))\n",
    "ub=int(input('enter upper: '))\n",
    "div()"
   ]
  },
  {
   "cell_type": "code",
   "execution_count": null,
   "metadata": {},
   "outputs": [],
   "source": [
    "#function to find the average of cubes of all even numbers in a rangr\n",
    "def cubeavg():\n",
    "    count=0\n",
    "    tot=0\n",
    "    cubes=1\n",
    "    for i in range(lb,ub+1):\n",
    "        if i%2==0:\n",
    "            cubes=i**3\n",
    "            tot=tot+cubes\n",
    "            count+=1\n",
    "    print(tot,count)\n",
    "    average=tot/count\n",
    "    print(average)\n",
    "   \n",
    "    \n",
    "lb=int(input(\"enter lb: \"))\n",
    "ub=int(input(\"enter ub: \"))\n",
    "cubeavg()"
   ]
  },
  {
   "cell_type": "code",
   "execution_count": null,
   "metadata": {},
   "outputs": [],
   "source": [
    "#function to genarate list of factors\n",
    "def factors(n):\n",
    "    factors=[]\n",
    "    for i in range(n+1):\n",
    "        if i==0:\n",
    "            continue\n",
    "        if n%i==0:\n",
    "            factors.append(i)\n",
    "            \n",
    "    return factors\n",
    "n=int(input(\"enter number: \"))\n",
    "factors(n)\n",
    "            "
   ]
  },
  {
   "cell_type": "code",
   "execution_count": null,
   "metadata": {},
   "outputs": [],
   "source": [
    "#function to calculate the factorial of a given number\n",
    "def factorial(n):\n",
    "    res=1\n",
    "    for i in range(n+1):\n",
    "        if i==0:\n",
    "            continue\n",
    "        res=res*i\n",
    "    return res\n",
    "n=int(input(\"enter num: \"))\n",
    "factorial(n)"
   ]
  },
  {
   "cell_type": "code",
   "execution_count": null,
   "metadata": {},
   "outputs": [],
   "source": [
    "#function to check if a given number is prime or not\n",
    "def isprime(n):\n",
    "    count=0\n",
    "    for i in range(1,n+1):\n",
    "        if n%i==0:\n",
    "            count+=1\n",
    "    if count==2:\n",
    "        return \"prime\"\n",
    "    else:\n",
    "        return \"not prime\"\n",
    "n=int(input())\n",
    "isprime(n)\n",
    "        "
   ]
  },
  {
   "cell_type": "code",
   "execution_count": null,
   "metadata": {},
   "outputs": [],
   "source": [
    "#function to calculate the averag wof first n primes\n",
    "def avgprimes(lb,ub):\n",
    "    count=0\n",
    "    tot=0\n",
    "    for num in range(lb,ub+1):\n",
    "        if num>1:\n",
    "            for i in range(2,num):\n",
    "                if num%i==0:\n",
    "                    break\n",
    "            else:\n",
    "                tot=tot+num\n",
    "                count+=1\n",
    "                if count==n:\n",
    "                    break\n",
    "    print(\"total\",\"-->\",tot)\n",
    "    print(\"count\",\"--->\",count)\n",
    "    average=tot/count\n",
    "    print(\"average of first\",n,\"primes: \",average)\n",
    "\n",
    "n=int(input(\"enter no of primes: \"))                    \n",
    "lb=int(input(\"enter lower range: \"))\n",
    "ub=int(input(\"enter upper range: \"))\n",
    "avgprimes(lb,ub)"
   ]
  },
  {
   "cell_type": "code",
   "execution_count": 22,
   "metadata": {},
   "outputs": [
    {
     "name": "stdout",
     "output_type": "stream",
     "text": [
      "enter lower range: 1\n",
      "enter uper rang1000\n",
      "6\n",
      "24\n",
      "28\n",
      "496\n"
     ]
    }
   ],
   "source": [
    "#function to generate all perfect numbers in a given range\n",
    "def perfect(lb,ub):\n",
    "    for num in range(lb,ub+1):\n",
    "        sum1=0\n",
    "        for i in range(1,num):\n",
    "            if num%i==0:\n",
    "                sum1=sum1+i\n",
    "                if num==sum1:\n",
    "                    print(num)            \n",
    "lb=int(input(\"enter lower range: \"))\n",
    "ub= int(input(\"enter uper rang\"))    \n",
    "perfect(lb,ub)"
   ]
  },
  {
   "cell_type": "code",
   "execution_count": 13,
   "metadata": {},
   "outputs": [
    {
     "name": "stdout",
     "output_type": "stream",
     "text": [
      "12\n",
      "1\n",
      "2\n",
      "3\n",
      "4\n",
      "6\n",
      "12\n"
     ]
    }
   ],
   "source": [
    "def factors(n):\n",
    "    for i in range(1,n+1):\n",
    "        if n%i==0:\n",
    "            print(i)\n",
    "n=int(input())\n",
    "factors(n)"
   ]
  },
  {
   "cell_type": "code",
   "execution_count": 5,
   "metadata": {},
   "outputs": [
    {
     "name": "stdout",
     "output_type": "stream",
     "text": [
      "enter lower range: 1\n",
      "enter uper rang1000000\n",
      "1\n",
      "3\n",
      "5\n",
      "7\n",
      "9\n",
      "153\n",
      "371\n",
      "407\n",
      "92727\n"
     ]
    }
   ],
   "source": [
    "#function to generate armstrong numbers:\n",
    "def armstrong(lb,ub):\n",
    "    for num in range(lb, ub + 1):\n",
    "        # order of number\n",
    "        order = len(str(num))\n",
    "        # initialize sum\n",
    "        sum = 0\n",
    "        temp = num\n",
    "        while temp > 0:\n",
    "            digit = temp % 10\n",
    "            sum += digit ** order\n",
    "            temp //= 10\n",
    "        if num == sum and num%2!=0:\n",
    "            print(num)\n",
    "lb=int(input(\"enter lower range: \"))\n",
    "ub= int(input(\"enter uper rang\"))    \n",
    "armstrong(lb,ub)\n",
    "        \n",
    "        "
   ]
  },
  {
   "cell_type": "code",
   "execution_count": 13,
   "metadata": {},
   "outputs": [
    {
     "name": "stdout",
     "output_type": "stream",
     "text": [
      "enter year: 2002\n",
      "2002  is not a leap year\n"
     ]
    }
   ],
   "source": [
    "#check given year is leap year or not:\n",
    "def leap_year(n):\n",
    "    if n%4==0 and n%100!=0 or n%400==0:\n",
    "        print(n,\" is a leap year\")\n",
    "    else:\n",
    "        print(n,\" is not a leap year\")\n",
    "n=int(input(\"enter year: \"))\n",
    "leap_year(n)"
   ]
  },
  {
   "cell_type": "code",
   "execution_count": 2,
   "metadata": {},
   "outputs": [
    {
     "name": "stdout",
     "output_type": "stream",
     "text": [
      "enter number: 4\n",
      "enter lower range: 1\n",
      "enter uper rang3\n"
     ]
    }
   ],
   "source": [
    "# check if number existe in a given range of numbers or not\n",
    "def check(n):\n",
    "    for i in range(lb,ub):\n",
    "        if i ==n:\n",
    "            return True\n",
    "        else:\n",
    "            return False\n",
    "n=int(input(\"enter number: \"))\n",
    "lb=int(input(\"enter lower range: \"))\n",
    "ub= int(input(\"enter uper rang\"))\n",
    "check(n)\n",
    "        "
   ]
  },
  {
   "cell_type": "code",
   "execution_count": 13,
   "metadata": {},
   "outputs": [
    {
     "name": "stdout",
     "output_type": "stream",
     "text": [
      "enter number: 123456\n",
      "no. of digits:  6\n"
     ]
    }
   ],
   "source": [
    "#check the number of digits in a given number:\n",
    "def digits(n):\n",
    "    count=0\n",
    "    while n:\n",
    "        r=n%10\n",
    "        n=n//10\n",
    "        count+=1\n",
    "    print(\"no. of digits: \",count)\n",
    "n=int(input(\"enter number: \"))\n",
    "digits(n)\n",
    "    "
   ]
  },
  {
   "cell_type": "code",
   "execution_count": null,
   "metadata": {},
   "outputs": [],
   "source": []
  }
 ],
 "metadata": {
  "kernelspec": {
   "display_name": "Python 3",
   "language": "python",
   "name": "python3"
  },
  "language_info": {
   "codemirror_mode": {
    "name": "ipython",
    "version": 3
   },
   "file_extension": ".py",
   "mimetype": "text/x-python",
   "name": "python",
   "nbconvert_exporter": "python",
   "pygments_lexer": "ipython3",
   "version": "3.7.4"
  }
 },
 "nbformat": 4,
 "nbformat_minor": 2
}
