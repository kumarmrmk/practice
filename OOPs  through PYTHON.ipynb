{
 "cells": [
  {
   "cell_type": "markdown",
   "metadata": {},
   "source": [
    "## OOP-PYTHON"
   ]
  },
  {
   "cell_type": "markdown",
   "metadata": {},
   "source": [
    "####  what is objected oriented programming?\n",
    "* ogject oriented programme allows decomposition of a problem into a number of units called objects\n",
    "* Python ,an object oriented programming ,is a way of programming that focuses on using object and classes to design and bild applications"
   ]
  },
  {
   "cell_type": "markdown",
   "metadata": {},
   "source": [
    "#### Why to choose Object oriented Programming?\n",
    "Python was designed with an object- oriented approach.OOP ofers the following advantages:\n",
    "* Provides a clear program structure,which makes it easy to map real world problems and their solutions.\n",
    "* Failities easy maintainance \n",
    "* Impats code reusability\n"
   ]
  },
  {
   "cell_type": "markdown",
   "metadata": {},
   "source": [
    "## Class\n",
    "* Aclass is a way to take a grouping of functions and data and place them inside a container"
   ]
  },
  {
   "cell_type": "markdown",
   "metadata": {},
   "source": [
    "## object\n",
    "* when yo instantiate a class , you get an object .You can instantiate an object,similar to calling a class like a function .Performs defined in the class"
   ]
  },
  {
   "cell_type": "markdown",
   "metadata": {},
   "source": [
    "## method\n",
    "* A name given to a function which is defined inside a class"
   ]
  },
  {
   "cell_type": "markdown",
   "metadata": {},
   "source": [
    "## constructor\n",
    "* used to instantiate an object.\n",
    "* It's task to initialise to the data members of a class when an object of a clsass is created "
   ]
  },
  {
   "cell_type": "markdown",
   "metadata": {},
   "source": [
    "class contains the blueprint which describes how to make the instances.An instance or object are constructed from the class .In most cases,we can have more than one instance of a class.Every instance has set of attributes and these atributes are defined ina classs , so every instance of particular class is expected to have the same attributes"
   ]
  },
  {
   "cell_type": "markdown",
   "metadata": {},
   "source": [
    "## creating a class an object"
   ]
  },
  {
   "cell_type": "code",
   "execution_count": 1,
   "metadata": {},
   "outputs": [
    {
     "name": "stdout",
     "output_type": "stream",
     "text": [
      "<__main__.myclass object at 0x000002308CA8BD08>\n",
      "<__main__.myclass object at 0x000002308CA8BDC8>\n"
     ]
    }
   ],
   "source": [
    "class myclass:\n",
    "    pass\n",
    "obj=myclass()\n",
    "print(obj)\n",
    "obj2=myclass()\n",
    "print(obj2)"
   ]
  },
  {
   "cell_type": "code",
   "execution_count": 3,
   "metadata": {},
   "outputs": [
    {
     "data": {
      "text/plain": [
       "<__main__.myclass at 0x2308ca8d888>"
      ]
     },
     "execution_count": 3,
     "metadata": {},
     "output_type": "execute_result"
    }
   ],
   "source": [
    "obj3=myclass()\n",
    "obj3"
   ]
  },
  {
   "cell_type": "code",
   "execution_count": 4,
   "metadata": {},
   "outputs": [
    {
     "data": {
      "text/plain": [
       "3"
      ]
     },
     "execution_count": 4,
     "metadata": {},
     "output_type": "execute_result"
    }
   ],
   "source": [
    "class sample:\n",
    "    var = 3\n",
    "obj=sample()\n",
    "obj.var"
   ]
  },
  {
   "cell_type": "markdown",
   "metadata": {},
   "source": [
    "### crearing a method "
   ]
  },
  {
   "cell_type": "code",
   "execution_count": 9,
   "metadata": {},
   "outputs": [
    {
     "name": "stdout",
     "output_type": "stream",
     "text": [
      "raja\n",
      "<__main__.sample object at 0x000002308CA8D548>\n"
     ]
    }
   ],
   "source": [
    "class sample:\n",
    "    def myMethod(self):\n",
    "        name = \"raja\" #method attribute \n",
    "        print(name)\n",
    "        print(self)\n",
    "obj=sample()\n",
    "obj.myMethod()"
   ]
  },
  {
   "cell_type": "markdown",
   "metadata": {},
   "source": [
    "### constructors\n",
    "* default\n",
    "* parameterised"
   ]
  },
  {
   "cell_type": "code",
   "execution_count": 13,
   "metadata": {},
   "outputs": [
    {
     "name": "stdout",
     "output_type": "stream",
     "text": [
      "raja\n"
     ]
    }
   ],
   "source": [
    "class student:\n",
    "    def __init__(self,name):\n",
    "        self.name=name\n",
    "    def data(self):\n",
    "        print(self.name)\n",
    "obj=student(\"raja\")\n",
    "obj.data()## for calling the method "
   ]
  },
  {
   "cell_type": "code",
   "execution_count": 15,
   "metadata": {},
   "outputs": [
    {
     "name": "stdout",
     "output_type": "stream",
     "text": [
      "raja\n"
     ]
    }
   ],
   "source": [
    "class student:\n",
    "    def __init__(self): ## default constructor\n",
    "        self.name = 'raja'\n",
    "    def data(self):\n",
    "        print(self.name)\n",
    "obj = student()\n",
    "obj.data()\n"
   ]
  },
  {
   "cell_type": "code",
   "execution_count": 23,
   "metadata": {},
   "outputs": [
    {
     "name": "stdout",
     "output_type": "stream",
     "text": [
      "girls percentage:  72.41\n",
      "boys percentage:  27.586\n"
     ]
    }
   ],
   "source": [
    "class myclass:\n",
    "    def __init__(self,girls_total,boys_total):\n",
    "        self.girls = girls_total\n",
    "        self.boys = boys_total\n",
    "        \n",
    "    def percentage_of_girls(self):\n",
    "        return (self.girls/(self.girls + self.boys))*100\n",
    "    \n",
    "    def percentage_of_boys(self):\n",
    "        return (self.boys/(self.girls+self.boys))*100\n",
    "    \n",
    "obj = myclass(42,16) ## 1st year\n",
    "print(\"girls percentage: \",round(obj.percentage_of_girls(),2))\n",
    "print(\"boys percentage: \",round(obj.percentage_of_boys(),3))"
   ]
  },
  {
   "cell_type": "code",
   "execution_count": 20,
   "metadata": {},
   "outputs": [
    {
     "data": {
      "text/plain": [
       "15.18987341772152"
      ]
     },
     "execution_count": 20,
     "metadata": {},
     "output_type": "execute_result"
    }
   ],
   "source": [
    "obj2 = myclass(12,67)## second year\n",
    "obj2.percentage_of_girls()"
   ]
  },
  {
   "cell_type": "markdown",
   "metadata": {},
   "source": [
    "### problem 2\n",
    "- define a clas 'student' which takes a list of marks of all the students\n",
    "- define amethod 'pass percentage' which returns the percentage of passed students in the list"
   ]
  },
  {
   "cell_type": "markdown",
   "metadata": {},
   "source": [
    "### Task:\n",
    "\n",
    "- Define a class **student** which takes\n",
    "    - name\n",
    "    - rollno\n",
    "    - branch\n",
    "    - cgpa\n",
    "- define a method 'grade'.\n",
    "    - it has to return the grade of that particular student\n",
    "    - CGPA >=8 ---> A\n",
    "           >=7 ---> B\n",
    "           >=6 ---> C\n"
   ]
  },
  {
   "cell_type": "code",
   "execution_count": null,
   "metadata": {},
   "outputs": [],
   "source": []
  },
  {
   "cell_type": "code",
   "execution_count": null,
   "metadata": {},
   "outputs": [],
   "source": []
  }
 ],
 "metadata": {
  "kernelspec": {
   "display_name": "Python 3",
   "language": "python",
   "name": "python3"
  },
  "language_info": {
   "codemirror_mode": {
    "name": "ipython",
    "version": 3
   },
   "file_extension": ".py",
   "mimetype": "text/x-python",
   "name": "python",
   "nbconvert_exporter": "python",
   "pygments_lexer": "ipython3",
   "version": "3.7.4"
  }
 },
 "nbformat": 4,
 "nbformat_minor": 2
}
